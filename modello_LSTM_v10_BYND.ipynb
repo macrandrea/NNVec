{
 "cells": [
  {
   "cell_type": "code",
   "execution_count": 1,
   "metadata": {},
   "outputs": [],
   "source": [
    "import os\n",
    "import utils\n",
    "import pandas as pd\n",
    "import numpy  as np\n",
    "import matplotlib.pyplot as plt\n",
    "from pandas.tseries.offsets import *\n",
    "import statsmodels.formula.api as smf\n",
    "from glob import glob\n",
    "from datetime import datetime\n",
    "import tensorflow as tf\n",
    "import keras\n",
    "from keras import Input, layers\n",
    "from keras.models import Model\n",
    "from keras.layers import Flatten, Dense, Dropout, Activation, Input, LSTM, Reshape, Conv2D, MaxPooling2D, LeakyReLU, GlobalMaxPooling1D\n",
    "from keras.optimizers import Adam\n",
    "from keras.utils import np_utils\n",
    "import random\n",
    "from sklearn.metrics import mean_squared_error as mse\n",
    "from sklearn.metrics import r2_score\n",
    "from scipy import stats\n",
    "from sklearn.linear_model import LinearRegression\n",
    "from fireTS.models import NARX\n",
    "seed_value = 2022\n",
    "random.seed(seed_value)\n",
    "np.random.seed(seed_value)\n",
    "tf.random.set_seed(seed_value)\n",
    "from sklearn.preprocessing import QuantileTransformer \n",
    "normalizer = QuantileTransformer(output_distribution='normal')"
   ]
  },
  {
   "cell_type": "code",
   "execution_count": 2,
   "metadata": {},
   "outputs": [],
   "source": [
    "lob_data=utils.caricaLOB('bynd',0.05)\n",
    "ld=lob_data.values.tolist()\n",
    "of=utils.OF_1(ld)\n",
    "bCols=np.ravel([['aOF_%d'%level, 'bOF_%d'%level] for level in [1,2,3]])\n",
    "of_data=pd.DataFrame(of, columns=bCols)\n",
    "m=pd.DataFrame(utils.midPrice(lob_data),columns=['m'])\n",
    "m['r']=m['m'].pct_change().fillna(0).copy()#.apply(np.log)\n",
    "ret=utils.preparaRitorni(m,'bynd')\n",
    "#of_data[]=ret#(m['r'])#.cumsum()\n"
   ]
  },
  {
   "cell_type": "code",
   "execution_count": 3,
   "metadata": {},
   "outputs": [
    {
     "data": {
      "text/plain": [
       "array([  0.,  31.,  62.,  93., 124., 155., 186., 217., 248., 279., 310.])"
      ]
     },
     "execution_count": 3,
     "metadata": {},
     "output_type": "execute_result"
    }
   ],
   "source": [
    "dt=utils.deltaT(m['r'])\n",
    "hk=utils.doHk(dt,11)\n",
    "hk"
   ]
  },
  {
   "cell_type": "code",
   "execution_count": 4,
   "metadata": {},
   "outputs": [],
   "source": [
    "of = pd.concat([of_data[-len(ret):], ret], axis=1)"
   ]
  },
  {
   "cell_type": "code",
   "execution_count": 5,
   "metadata": {},
   "outputs": [],
   "source": [
    "#of=of.apply(lambda x : utils.taglia_e_cuci(x), axis=1, raw=True)"
   ]
  },
  {
   "cell_type": "code",
   "execution_count": 6,
   "metadata": {},
   "outputs": [
    {
     "name": "stdout",
     "output_type": "stream",
     "text": [
      "(90345, 100, 6) (90345, 10)\n",
      "(30048, 100, 6) (30048, 10)\n",
      "(30049, 100, 6) (30049, 10)\n"
     ]
    }
   ],
   "source": [
    "V = int(len(of)*0.6)\n",
    "T = int(len(of)*0.8)\n",
    "\n",
    "n_train     = of.iloc[ :V].copy()\n",
    "n_vali      = of.iloc[V:T].copy()\n",
    "n_test      = of.iloc[T: ].copy()\n",
    "\n",
    "n_train = n_train.apply(lambda x : utils.taglia_e_cuci(x), axis=1, raw=True)\n",
    "n_vali  = n_vali .apply(lambda x : utils.taglia_e_cuci(x), axis=1, raw=True)\n",
    "n_test  = n_test .apply(lambda x : utils.taglia_e_cuci(x), axis=1, raw=True)\n",
    "\n",
    "x_vars = of.columns#[:-10]\n",
    "\n",
    "# Normalize Features\n",
    "# Dividing by the standard deviation estimated using the training set\n",
    "for x_var in x_vars:\n",
    "    sd = n_train[x_var].std()\n",
    "    n_train[x_var] = n_train[x_var] / sd\n",
    "    n_vali [x_var] = n_vali [x_var] / sd\n",
    "    n_test [x_var] = n_test [x_var] / sd\n",
    "\n",
    "trainX,trainY = utils.prepXY  (n_train, typo = 'lstm')    \n",
    "valiX ,valiY  = utils.prepXY  (n_vali , typo = 'lstm')    \n",
    "testX ,testY  = utils.prepXY  (n_test , typo = 'lstm')   \n",
    "\n",
    "\n",
    "print(trainX.shape ,trainY.shape)\n",
    "print(valiX.shape  ,valiY .shape)\n",
    "print(testX.shape  ,testY .shape)"
   ]
  },
  {
   "cell_type": "code",
   "execution_count": 7,
   "metadata": {},
   "outputs": [
    {
     "data": {
      "image/png": "[encoded data removed]",
      "text/plain": [
       "<Figure size 432x288 with 1 Axes>"
      ]
     },
     "metadata": {
      "needs_background": "light"
     },
     "output_type": "display_data"
    }
   ],
   "source": [
    "plt.plot(testY);"
   ]
  },
  {
   "cell_type": "code",
   "execution_count": 8,
   "metadata": {},
   "outputs": [
    {
     "name": "stdout",
     "output_type": "stream",
     "text": [
      "Epoch 1/50\n",
      "353/353 [==============================] - 477s 1s/step - loss: 0.9280 - val_loss: 0.7342\n",
      "Epoch 2/50\n",
      "353/353 [==============================] - 661s 2s/step - loss: 0.7024 - val_loss: 0.6474\n",
      "Epoch 3/50\n",
      "353/353 [==============================] - 625s 2s/step - loss: 0.6334 - val_loss: 0.6099\n",
      "Epoch 4/50\n",
      "353/353 [==============================] - 627s 2s/step - loss: 0.5982 - val_loss: 0.5919\n",
      "Epoch 5/50\n",
      "353/353 [==============================] - 658s 2s/step - loss: 0.5740 - val_loss: 0.5755\n",
      "Epoch 6/50\n",
      "353/353 [==============================] - 633s 2s/step - loss: 0.5570 - val_loss: 0.5684\n",
      "Epoch 7/50\n",
      "353/353 [==============================] - 605s 2s/step - loss: 0.5431 - val_loss: 0.5637\n",
      "Epoch 8/50\n",
      "353/353 [==============================] - 614s 2s/step - loss: 0.5311 - val_loss: 0.5578\n",
      "Epoch 9/50\n",
      "353/353 [==============================] - 620s 2s/step - loss: 0.5205 - val_loss: 0.5602\n",
      "Epoch 10/50\n",
      "353/353 [==============================] - 649s 2s/step - loss: 0.5129 - val_loss: 0.5463\n",
      "Epoch 11/50\n",
      "353/353 [==============================] - 640s 2s/step - loss: 0.5039 - val_loss: 0.5391\n",
      "Epoch 12/50\n",
      "353/353 [==============================] - 587s 2s/step - loss: 0.4977 - val_loss: 0.5355\n",
      "Epoch 13/50\n",
      "353/353 [==============================] - 328s 927ms/step - loss: 0.4907 - val_loss: 0.5367\n",
      "Epoch 14/50\n",
      "353/353 [==============================] - 232s 658ms/step - loss: 0.4852 - val_loss: 0.5278\n",
      "Epoch 15/50\n",
      "353/353 [==============================] - 236s 670ms/step - loss: 0.4796 - val_loss: 0.5400\n",
      "Epoch 16/50\n",
      "353/353 [==============================] - 244s 691ms/step - loss: 0.4743 - val_loss: 0.5392\n",
      "Epoch 17/50\n",
      "353/353 [==============================] - 264s 749ms/step - loss: 0.4680 - val_loss: 0.5259\n",
      "Epoch 18/50\n",
      "353/353 [==============================] - 260s 735ms/step - loss: 0.4631 - val_loss: 0.5284\n",
      "Epoch 19/50\n",
      "353/353 [==============================] - 262s 744ms/step - loss: 0.4599 - val_loss: 0.5286\n",
      "Epoch 20/50\n",
      "353/353 [==============================] - 259s 734ms/step - loss: 0.4535 - val_loss: 0.5226\n",
      "Epoch 21/50\n",
      "353/353 [==============================] - 245s 693ms/step - loss: 0.4494 - val_loss: 0.5237\n",
      "Epoch 22/50\n",
      "353/353 [==============================] - 241s 684ms/step - loss: 0.4449 - val_loss: 0.5243\n",
      "Epoch 23/50\n",
      "353/353 [==============================] - 250s 707ms/step - loss: 0.4400 - val_loss: 0.5253\n",
      "Epoch 24/50\n",
      "353/353 [==============================] - 263s 746ms/step - loss: 0.4379 - val_loss: 0.5281\n",
      "Epoch 25/50\n",
      "353/353 [==============================] - 270s 766ms/step - loss: 0.4330 - val_loss: 0.5310\n",
      "Epoch 25: early stopping\n"
     ]
    }
   ],
   "source": [
    "#architettura della rete\n",
    "num_units = 64\n",
    "activation_function = 'leaky_relu'\n",
    "adam = keras.optimizers.Adam(learning_rate=0.0001)\n",
    "loss_function = 'mse'\n",
    "batch_size = 256\n",
    "num_epochs = 50\n",
    "i = Input(shape=(100, 6))\n",
    "x = LSTM(64, return_sequences=True)(i)\n",
    "x = keras.layers.LeakyReLU(alpha=0.01)(x)\n",
    "x = LSTM(64, return_sequences=True)(x)\n",
    "x = keras.layers.LeakyReLU(alpha=0.01)(x)\n",
    "x = keras.layers.Dropout(0.2)(x, training=True)\n",
    "#x = LSTM(64, return_sequences=True)(x)\n",
    "x = GlobalMaxPooling1D()(x)\n",
    "x = Dense(10, activation='leaky_relu')(x)\n",
    "\n",
    "\n",
    "model = Model(i, x)\n",
    "\n",
    "\n",
    "callback=tf.keras.callbacks.EarlyStopping(\n",
    "    monitor='val_loss',\n",
    "    min_delta=0,\n",
    "    patience=5,\n",
    "    verbose=1,\n",
    "    mode='auto',\n",
    "    baseline=None,\n",
    "    restore_best_weights=False\n",
    ")\n",
    "\n",
    "model.compile(optimizer = adam, loss = loss_function)\n",
    "\n",
    "r=model.fit(trainX,trainY, batch_size = batch_size, epochs = num_epochs,validation_data=(valiX ,valiY ),callbacks=[callback])\n",
    "\n",
    "#model.save('LSTMbynd25pct.h5')#"
   ]
  },
  {
   "cell_type": "code",
   "execution_count": 17,
   "metadata": {},
   "outputs": [],
   "source": [
    "loss=r.history['loss']\n",
    "lossVal=r.history['val_loss']"
   ]
  },
  {
   "cell_type": "code",
   "execution_count": 16,
   "metadata": {},
   "outputs": [],
   "source": [
    "#model.save('LSTMbynd.h5')\n",
    "model.load_weights('LSTMbynd.h5')"
   ]
  },
  {
   "cell_type": "code",
   "execution_count": 9,
   "metadata": {},
   "outputs": [
    {
     "data": {
      "image/png": "[encoded data removed]",
      "text/plain": [
       "<Figure size 432x288 with 1 Axes>"
      ]
     },
     "metadata": {
      "needs_background": "light"
     },
     "output_type": "display_data"
    }
   ],
   "source": [
    "plt.plot(r.history['loss'], label='train loss')\n",
    "plt.plot(r.history['val_loss'], label='test loss')\n",
    "plt.legend()\n",
    "plt.show()"
   ]
  },
  {
   "cell_type": "code",
   "execution_count": 10,
   "metadata": {},
   "outputs": [
    {
     "name": "stdout",
     "output_type": "stream",
     "text": [
      "2824/2824 [==============================] - 134s 47ms/step\n",
      "940/940 [==============================] - 51s 55ms/step\n"
     ]
    }
   ],
   "source": [
    "Ptrain= model.predict(trainX)\n",
    "Ptest = model.predict(testX)"
   ]
  },
  {
   "cell_type": "code",
   "execution_count": 12,
   "metadata": {},
   "outputs": [
    {
     "data": {
      "text/plain": [
       "array([0.15001989, 0.25639076, 0.30347544, 0.32873105, 0.34493539,\n",
       "       0.36084799, 0.37695614, 0.37715908, 0.37342036, 0.37855511])"
      ]
     },
     "execution_count": 12,
     "metadata": {},
     "output_type": "execute_result"
    }
   ],
   "source": [
    "r2LSTMos = np.zeros(10)\n",
    "for i in range(10):\n",
    "    r2LSTMos[i]=1-mse(y_pred=Ptest[:,i],y_true=testY[:,i])/mse(y_pred=[np.mean(trainY[:,i])]*len(testY),y_true=testY[:,i])\n",
    "r2LSTMos"
   ]
  },
  {
   "cell_type": "code",
   "execution_count": 13,
   "metadata": {},
   "outputs": [
    {
     "data": {
      "text/plain": [
       "array([0.24212226, 0.42408725, 0.51559479, 0.56792052, 0.60504652,\n",
       "       0.62782008, 0.64942219, 0.66988524, 0.67774559, 0.68010898])"
      ]
     },
     "execution_count": 13,
     "metadata": {},
     "output_type": "execute_result"
    }
   ],
   "source": [
    "r2LSTMis = np.zeros(10)\n",
    "for i in range(10):\n",
    "    r2LSTMis[i]=1-mse(y_pred=Ptrain[:,i],y_true=trainY[:,i])/mse(y_pred=[np.mean(trainY[:,i])]*len(trainY),y_true=trainY[:,i])\n",
    "r2LSTMis"
   ]
  },
  {
   "cell_type": "code",
   "execution_count": 14,
   "metadata": {},
   "outputs": [
    {
     "data": {
      "text/plain": [
       "(0.3237999028137074, 0.56597534246811)"
      ]
     },
     "execution_count": 14,
     "metadata": {},
     "output_type": "execute_result"
    }
   ],
   "source": [
    "r2_score(y_pred=Ptest*sd,y_true=testY*sd), r2_score(y_pred=Ptrain*sd,y_true=trainY*sd)"
   ]
  },
  {
   "cell_type": "code",
   "execution_count": 15,
   "metadata": {},
   "outputs": [
    {
     "data": {
      "text/plain": [
       "[]"
      ]
     },
     "execution_count": 15,
     "metadata": {},
     "output_type": "execute_result"
    },
    {
     "name": "stderr",
     "output_type": "stream",
     "text": [
      "c:\\Users\\macri\\anaconda3\\lib\\site-packages\\IPython\\core\\pylabtools.py:151: UserWarning: Creating legend with loc=\"best\" can be slow with large amounts of data.\n",
      "  fig.canvas.print_figure(bytes_io, **kw)\n"
     ]
    },
    {
     "data": {
      "image/png": "[encoded data removed]",
      "text/plain": [
       "<Figure size 432x288 with 1 Axes>"
      ]
     },
     "metadata": {
      "needs_background": "light"
     },
     "output_type": "display_data"
    }
   ],
   "source": [
    "plt.plot(testY)\n",
    "plt.plot(Ptest,label='pred')\n",
    "plt.legend()\n",
    "plt.plot()\n",
    "###\n",
    "plt.plot(trainY)\n",
    "plt.plot(Ptrain,label='pred')\n",
    "plt.legend()\n",
    "plt.plot()"
   ]
  },
  {
   "cell_type": "code",
   "execution_count": null,
   "metadata": {},
   "outputs": [],
   "source": []
  }
 ],
 "metadata": {
  "kernelspec": {
   "display_name": "Python 3.9.12 ('base')",
   "language": "python",
   "name": "python3"
  },
  "language_info": {
   "codemirror_mode": {
    "name": "ipython",
    "version": 3
   },
   "file_extension": ".py",
   "mimetype": "text/x-python",
   "name": "python",
   "nbconvert_exporter": "python",
   "pygments_lexer": "ipython3",
   "version": "3.9.12"
  },
  "orig_nbformat": 4,
  "vscode": {
   "interpreter": {
    "hash": "597e2b791014bf3f975e304e1e72922cb6b9245e0453d34e2c818a7120fc527f"
   }
  }
 },
 "nbformat": 4,
 "nbformat_minor": 2
}
