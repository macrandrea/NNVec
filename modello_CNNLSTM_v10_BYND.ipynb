{
 "cells": [
  {
   "cell_type": "code",
   "execution_count": 1,
   "metadata": {},
   "outputs": [],
   "source": [
    "import os\n",
    "import utils\n",
    "import pandas as pd\n",
    "import numpy  as np\n",
    "import matplotlib.pyplot as plt\n",
    "from pandas.tseries.offsets import *\n",
    "import statsmodels.formula.api as smf\n",
    "from glob import glob\n",
    "from datetime import datetime\n",
    "import tensorflow as tf\n",
    "import keras\n",
    "from keras import Input, layers\n",
    "from keras.models import Model\n",
    "from keras.layers import Flatten, Dense, Dropout, Activation, Input, LSTM, Reshape, Conv2D, MaxPooling2D, LeakyReLU, GlobalMaxPooling1D\n",
    "from keras.optimizers import Adam\n",
    "from keras.utils import np_utils\n",
    "import random\n",
    "from sklearn.metrics import mean_squared_error as mse\n",
    "from sklearn.metrics import r2_score\n",
    "from scipy import stats\n",
    "from sklearn.linear_model import LinearRegression\n",
    "from fireTS.models import NARX\n",
    "seed_value = 2022\n",
    "random.seed(seed_value)\n",
    "np.random.seed(seed_value)\n",
    "tf.random.set_seed(seed_value)\n",
    "from sklearn.preprocessing import QuantileTransformer \n",
    "normalizer = QuantileTransformer(output_distribution='normal')"
   ]
  },
  {
   "cell_type": "code",
   "execution_count": 2,
   "metadata": {},
   "outputs": [],
   "source": [
    "lob_data=utils.caricaLOB('bynd',0.05)\n",
    "ld=lob_data.values.tolist()\n",
    "of=utils.OF_1(ld)\n",
    "bCols=np.ravel([['aOF_%d'%level, 'bOF_%d'%level] for level in [1,2,3]])\n",
    "of_data=pd.DataFrame(of, columns=bCols)\n",
    "m=pd.DataFrame(utils.midPrice(lob_data),columns=['m'])\n",
    "m['r']=m['m'].pct_change().fillna(0).copy()#.apply(np.log)\n",
    "ret=utils.preparaRitorni(m,'bynd')\n",
    "#of_data[]=ret#(m['r'])#.cumsum()\n",
    "of = pd.concat([of_data[-len(ret):], ret], axis=1)"
   ]
  },
  {
   "cell_type": "code",
   "execution_count": 3,
   "metadata": {},
   "outputs": [
    {
     "data": {
      "text/plain": [
       "array([  0.,  31.,  62.,  93., 124., 155., 186., 217., 248., 279., 310.])"
      ]
     },
     "execution_count": 3,
     "metadata": {},
     "output_type": "execute_result"
    }
   ],
   "source": [
    "dt=utils.deltaT(m['r'])\n",
    "hk=utils.doHk(dt,11)\n",
    "hk"
   ]
  },
  {
   "cell_type": "code",
   "execution_count": 4,
   "metadata": {},
   "outputs": [
    {
     "name": "stdout",
     "output_type": "stream",
     "text": [
      "(90345, 100, 6, 1) (90345, 10)\n",
      "(30048, 100, 6, 1) (30048, 10)\n",
      "(30049, 100, 6, 1) (30049, 10)\n"
     ]
    }
   ],
   "source": [
    "V = int(len(of)*0.6)\n",
    "T = int(len(of)*0.8)\n",
    "\n",
    "n_train     = of.iloc[ :V].copy()\n",
    "n_vali      = of.iloc[V:T].copy()\n",
    "n_test      = of.iloc[T: ].copy()\n",
    "\n",
    "n_train = n_train.apply(lambda x : utils.taglia_e_cuci(x), axis=1, raw=True)\n",
    "n_vali  = n_vali .apply(lambda x : utils.taglia_e_cuci(x), axis=1, raw=True)\n",
    "n_test  = n_test .apply(lambda x : utils.taglia_e_cuci(x), axis=1, raw=True)\n",
    "\n",
    "x_vars = of.columns#[:-10]\n",
    "\n",
    "# Normalize Features\n",
    "# Dividing by the standard deviation estimated using the training set\n",
    "for x_var in x_vars:\n",
    "    sd = n_train[x_var].std()\n",
    "    n_train[x_var] = n_train[x_var] / sd\n",
    "    n_vali [x_var] = n_vali [x_var] / sd\n",
    "    n_test [x_var] = n_test [x_var] / sd\n",
    "\n",
    "trainX,trainY = utils.prepXY  (n_train, typo = 'cnnlstm')    \n",
    "valiX ,valiY  = utils.prepXY  (n_vali , typo = 'cnnlstm')    \n",
    "testX ,testY  = utils.prepXY  (n_test , typo = 'cnnlstm')   \n",
    "\n",
    "\n",
    "print(trainX.shape ,trainY.shape)\n",
    "print(valiX.shape  ,valiY .shape)\n",
    "print(testX.shape  ,testY .shape)"
   ]
  },
  {
   "cell_type": "code",
   "execution_count": 5,
   "metadata": {},
   "outputs": [],
   "source": [
    "#architettura della rete\n",
    "def create_nn(T, NF,number_of_lstm):\n",
    "\n",
    "    input_lmd = tf.keras.Input(shape=(T, NF, 1))\n",
    "\n",
    "    conv_first1 = Conv2D(32, kernel_size=(1, 2), strides=(1, 2))(input_lmd)\n",
    "    conv_first1 = keras.layers.LeakyReLU(alpha=0.01)(conv_first1)\n",
    "    conv_first1 = Conv2D(32, (4, 1), padding='same')(conv_first1)\n",
    "    conv_first1 = keras.layers.LeakyReLU(alpha=0.01)(conv_first1)\n",
    "    conv_first1 = Conv2D(32, (4, 1), padding='same')(conv_first1)\n",
    "    conv_first1 = keras.layers.LeakyReLU(alpha=0.01)(conv_first1)\n",
    "    #\n",
    "    layer_x = layers.Conv2D(filters=16, kernel_size=(10,1),strides=(1,10), padding='same')(conv_first1)\n",
    "    layer_x = layers.LeakyReLU(alpha=0.01)(layer_x)\n",
    "    # inception\n",
    "    convsecond_1 = Conv2D(64, (1, 1), padding='same', strides=(1,1))(layer_x)\n",
    "    convsecond_1 = keras.layers.LeakyReLU(alpha=0.01)(convsecond_1)\n",
    "    convsecond_1 = Conv2D(64, (3, 1), padding='same', strides=(1,1))(convsecond_1)\n",
    "    convsecond_1 = keras.layers.LeakyReLU(alpha=0.01)(convsecond_1)\n",
    "\n",
    "    convsecond_2 = Conv2D(64, (1, 1), padding='same', strides=(1,1))(layer_x)\n",
    "    convsecond_2 = keras.layers.LeakyReLU(alpha=0.01)(convsecond_2)\n",
    "    convsecond_2 = Conv2D(64, (5, 1), padding='same', strides=(1,1))(convsecond_2)\n",
    "    convsecond_2 = keras.layers.LeakyReLU(alpha=0.01)(convsecond_2)\n",
    "\n",
    "    convsecond_3 = MaxPooling2D((3, 1), strides=(1, 1), padding='same')(layer_x)\n",
    "    convsecond_3 = Conv2D(64, (1, 1), padding='same', strides=(1,1))(convsecond_3)\n",
    "    convsecond_3 = keras.layers.LeakyReLU(alpha=0.01)(convsecond_3)\n",
    "    \n",
    "    convsecond_output = keras.layers.concatenate([convsecond_1, convsecond_2, convsecond_3], axis=3)\n",
    "    conv_reshape = Reshape((int(convsecond_output.shape[1]), int(convsecond_output.shape[3])))(convsecond_output)\n",
    "    conv_reshape = keras.layers.Dropout(0.6, noise_shape=(None, 1, int(conv_reshape.shape[2])))(conv_reshape, training=True)\n",
    "\n",
    "    #  LSTM layer\n",
    "    conv_lstm = LSTM(number_of_lstm)(conv_reshape)\n",
    "    # output layer\n",
    "    out = Dense(10, activation='leaky_relu')(conv_lstm) #prova a mettere TY=number of steps in the output\n",
    "    model = Model(inputs=input_lmd, outputs=out)\n",
    "    adam = keras.optimizers.Adam(learning_rate=0.0001)\n",
    "    model.compile(optimizer=adam, loss='mse')#, metrics=['accuracy']\n",
    "\n",
    "    return model\n",
    "  \n",
    "deeplob = create_nn(100, 6, 64)\n",
    "checkpoint_filepath = './model_tensorflow2/weights'\n",
    "\n",
    "callback=tf.keras.callbacks.EarlyStopping(\n",
    "    monitor='val_loss',\n",
    "    min_delta=0,\n",
    "    patience=5,\n",
    "    verbose=1,\n",
    "    mode='auto',\n",
    "    baseline=None,\n",
    "    restore_best_weights=False\n",
    ")\n",
    "saving = tf.keras.callbacks.ModelCheckpoint(\n",
    "    filepath=checkpoint_filepath,\n",
    "    save_weights_only=True,\n",
    "    monitor='val_loss',\n",
    "    mode='auto',\n",
    "    save_best_only=True)\n",
    "\n",
    "#deeplob.summary()"
   ]
  },
  {
   "cell_type": "code",
   "execution_count": 6,
   "metadata": {},
   "outputs": [
    {
     "name": "stdout",
     "output_type": "stream",
     "text": [
      "Epoch 1/50\n",
      "353/353 [==============================] - 169s 471ms/step - loss: 0.7929 - val_loss: 0.6457\n",
      "Epoch 2/50\n",
      "353/353 [==============================] - 175s 496ms/step - loss: 0.6009 - val_loss: 0.6099\n",
      "Epoch 3/50\n",
      "353/353 [==============================] - 165s 467ms/step - loss: 0.5639 - val_loss: 0.5859\n",
      "Epoch 4/50\n",
      "353/353 [==============================] - 157s 446ms/step - loss: 0.5416 - val_loss: 0.5750\n",
      "Epoch 5/50\n",
      "353/353 [==============================] - 160s 454ms/step - loss: 0.5280 - val_loss: 0.5661\n",
      "Epoch 6/50\n",
      "353/353 [==============================] - 155s 439ms/step - loss: 0.5174 - val_loss: 0.5552\n",
      "Epoch 7/50\n",
      "353/353 [==============================] - 155s 439ms/step - loss: 0.5070 - val_loss: 0.5475\n",
      "Epoch 8/50\n",
      "353/353 [==============================] - 155s 439ms/step - loss: 0.4988 - val_loss: 0.5449\n",
      "Epoch 9/50\n",
      "353/353 [==============================] - 155s 439ms/step - loss: 0.4899 - val_loss: 0.5484\n",
      "Epoch 10/50\n",
      "353/353 [==============================] - 154s 435ms/step - loss: 0.4829 - val_loss: 0.5386\n",
      "Epoch 11/50\n",
      "353/353 [==============================] - 157s 446ms/step - loss: 0.4756 - val_loss: 0.5326\n",
      "Epoch 12/50\n",
      "353/353 [==============================] - 153s 433ms/step - loss: 0.4704 - val_loss: 0.5336\n",
      "Epoch 13/50\n",
      "353/353 [==============================] - 158s 448ms/step - loss: 0.4614 - val_loss: 0.5304\n",
      "Epoch 14/50\n",
      "353/353 [==============================] - 159s 451ms/step - loss: 0.4551 - val_loss: 0.5247\n",
      "Epoch 15/50\n",
      "353/353 [==============================] - 161s 458ms/step - loss: 0.4484 - val_loss: 0.5336\n",
      "Epoch 16/50\n",
      "353/353 [==============================] - 164s 465ms/step - loss: 0.4413 - val_loss: 0.5208\n",
      "Epoch 17/50\n",
      "353/353 [==============================] - 165s 467ms/step - loss: 0.4356 - val_loss: 0.5265\n",
      "Epoch 18/50\n",
      "353/353 [==============================] - 163s 462ms/step - loss: 0.4279 - val_loss: 0.5239\n",
      "Epoch 19/50\n",
      "353/353 [==============================] - 167s 472ms/step - loss: 0.4236 - val_loss: 0.5192\n",
      "Epoch 20/50\n",
      "353/353 [==============================] - 167s 474ms/step - loss: 0.4164 - val_loss: 0.5206\n",
      "Epoch 21/50\n",
      "353/353 [==============================] - 179s 508ms/step - loss: 0.4150 - val_loss: 0.5188\n",
      "Epoch 22/50\n",
      "353/353 [==============================] - 163s 462ms/step - loss: 0.4109 - val_loss: 0.5208\n",
      "Epoch 23/50\n",
      "353/353 [==============================] - 157s 445ms/step - loss: 0.4006 - val_loss: 0.5130\n",
      "Epoch 24/50\n",
      "353/353 [==============================] - 173s 490ms/step - loss: 0.3965 - val_loss: 0.5244\n",
      "Epoch 25/50\n",
      "353/353 [==============================] - 165s 466ms/step - loss: 0.3969 - val_loss: 0.5285\n",
      "Epoch 26/50\n",
      "353/353 [==============================] - 171s 485ms/step - loss: 0.3861 - val_loss: 0.5204\n",
      "Epoch 27/50\n",
      "353/353 [==============================] - 167s 474ms/step - loss: 0.3852 - val_loss: 0.5289\n",
      "Epoch 28/50\n",
      "353/353 [==============================] - 159s 451ms/step - loss: 0.3817 - val_loss: 0.5287\n",
      "Epoch 28: early stopping\n"
     ]
    }
   ],
   "source": [
    "#simple=deeplob.load_weights('modelBYND.h5')\n",
    "simple=deeplob.fit(trainX, trainY, validation_data=(valiX, valiY),  epochs=50, batch_size=256,callbacks=[callback,saving])\n",
    "#deeplob.save('modelBYND.h5')"
   ]
  },
  {
   "cell_type": "code",
   "execution_count": 7,
   "metadata": {},
   "outputs": [],
   "source": [
    "loss=simple.history['loss']\n",
    "lossVal=simple.history['val_loss']"
   ]
  },
  {
   "cell_type": "code",
   "execution_count": 8,
   "metadata": {},
   "outputs": [],
   "source": [
    "#deeplob.save('modelBYND.h5')"
   ]
  },
  {
   "cell_type": "code",
   "execution_count": 9,
   "metadata": {},
   "outputs": [
    {
     "data": {
      "image/png": "[encoded data removed]",
      "text/plain": [
       "<Figure size 432x288 with 1 Axes>"
      ]
     },
     "metadata": {
      "needs_background": "light"
     },
     "output_type": "display_data"
    }
   ],
   "source": [
    "plt.plot(simple.history['loss'], label='train loss')\n",
    "plt.plot(simple.history['val_loss'], label='test loss')\n",
    "plt.legend()\n",
    "plt.show()"
   ]
  },
  {
   "cell_type": "code",
   "execution_count": 10,
   "metadata": {},
   "outputs": [
    {
     "name": "stdout",
     "output_type": "stream",
     "text": [
      "2824/2824 [==============================] - 77s 27ms/step\n",
      "940/940 [==============================] - 26s 28ms/step\n"
     ]
    }
   ],
   "source": [
    "Ptrain= deeplob.predict(trainX)\n",
    "Ptest = deeplob.predict(testX)"
   ]
  },
  {
   "cell_type": "code",
   "execution_count": 11,
   "metadata": {},
   "outputs": [
    {
     "data": {
      "text/plain": [
       "array([0.22409667, 0.26871996, 0.3080904 , 0.34136726, 0.36955733,\n",
       "       0.38631703, 0.40519346, 0.41527657, 0.4258785 , 0.42564711])"
      ]
     },
     "execution_count": 11,
     "metadata": {},
     "output_type": "execute_result"
    }
   ],
   "source": [
    "r2os = np.zeros(10)\n",
    "for i in range(10):\n",
    "    r2os[i]=1-mse(y_pred=Ptest[:,i],y_true=testY[:,i])/mse(y_pred=[np.mean(trainY[:,i])]*len(testY),y_true=testY[:,i])\n",
    "r2os\n"
   ]
  },
  {
   "cell_type": "code",
   "execution_count": 12,
   "metadata": {},
   "outputs": [
    {
     "data": {
      "text/plain": [
       "array([0.3598867 , 0.47649436, 0.56022506, 0.61774497, 0.65455825,\n",
       "       0.67720249, 0.69971335, 0.71512089, 0.725597  , 0.72468311])"
      ]
     },
     "execution_count": 12,
     "metadata": {},
     "output_type": "execute_result"
    }
   ],
   "source": [
    "r2is = np.zeros(10)\n",
    "for i in range(10):\n",
    "    r2is[i]=1-mse(y_pred=Ptrain[:,i],y_true=trainY[:,i])/mse(y_pred=[np.mean(trainY[:,i])]*len(trainY),y_true=trainY[:,i])\n",
    "r2is"
   ]
  },
  {
   "cell_type": "code",
   "execution_count": 13,
   "metadata": {},
   "outputs": [
    {
     "data": {
      "text/plain": [
       "(0.3558312476946886, 0.6211226193814856)"
      ]
     },
     "execution_count": 13,
     "metadata": {},
     "output_type": "execute_result"
    }
   ],
   "source": [
    "r2_score(y_pred=Ptest*sd,y_true=testY*sd), r2_score(y_pred=Ptrain*sd,y_true=trainY*sd)"
   ]
  },
  {
   "cell_type": "code",
   "execution_count": 14,
   "metadata": {},
   "outputs": [
    {
     "data": {
      "image/png": "[encoded data removed]",
      "text/plain": [
       "<Figure size 432x288 with 1 Axes>"
      ]
     },
     "metadata": {
      "needs_background": "light"
     },
     "output_type": "display_data"
    }
   ],
   "source": [
    "plt.plot(testY)\n",
    "plt.plot(Ptest,label='pred')\n",
    "plt.legend();"
   ]
  },
  {
   "cell_type": "code",
   "execution_count": 15,
   "metadata": {},
   "outputs": [
    {
     "data": {
      "image/png": "[encoded data removed]",
      "text/plain": [
       "<Figure size 432x288 with 1 Axes>"
      ]
     },
     "metadata": {
      "needs_background": "light"
     },
     "output_type": "display_data"
    }
   ],
   "source": [
    "plt.plot(trainY)\n",
    "plt.plot(Ptrain,label='pred')\n",
    "plt.legend();"
   ]
  },
  {
   "cell_type": "code",
   "execution_count": 16,
   "metadata": {},
   "outputs": [],
   "source": [
    "x = n_train.iloc[:,:6]\n",
    "y = n_train.iloc[:,6:]\n",
    "\n",
    "yfor =np.empty((len(valiY),10))\n",
    "\n",
    "for i in range(10):\n",
    "    mdl = NARX(LinearRegression(), auto_order=1, exog_order=[100,100,100,100,100,100])\n",
    "    mdl.fit(x,y.iloc[:,i])\n",
    "    yfor[:,i] = mdl.forecast(x,y.iloc[:,i],step=len(valiY))"
   ]
  },
  {
   "cell_type": "code",
   "execution_count": 17,
   "metadata": {},
   "outputs": [
    {
     "data": {
      "text/plain": [
       "array([5.34631133e-05, 2.11840208e-04, 3.27538917e-04, 3.52878661e-04,\n",
       "       4.96963778e-04, 3.37230783e-04, 4.26578178e-04, 6.75925439e-04,\n",
       "       7.12158564e-04, 6.08138895e-04])"
      ]
     },
     "execution_count": 17,
     "metadata": {},
     "output_type": "execute_result"
    }
   ],
   "source": [
    "r2ARXos = np.zeros(10)\n",
    "for i in range(10):\n",
    "    r2ARXos[i]=1-mse(y_pred=yfor[:,i],y_true=valiY[:,i])/mse(y_pred=[np.mean(trainY[:,i])]*len(valiY),y_true=valiY[:,i])\n",
    "r2ARXos"
   ]
  },
  {
   "cell_type": "code",
   "execution_count": 18,
   "metadata": {},
   "outputs": [
    {
     "data": {
      "text/plain": [
       "(1.0, -190528.93880689)"
      ]
     },
     "execution_count": 18,
     "metadata": {},
     "output_type": "execute_result"
    }
   ],
   "source": [
    "r2_score(y,n_train.iloc[:,-10:]), r2_score(yfor,valiY)"
   ]
  },
  {
   "cell_type": "code",
   "execution_count": 19,
   "metadata": {},
   "outputs": [
    {
     "data": {
      "text/plain": [
       "array([1., 1., 1., 1., 1., 1., 1., 1., 1., 1.])"
      ]
     },
     "execution_count": 19,
     "metadata": {},
     "output_type": "execute_result"
    }
   ],
   "source": [
    "r2ARXis = np.zeros(10)\n",
    "for i in range(10):\n",
    "    r2ARXis[i]=1-mse(y_pred=y.iloc[:,i],y_true=n_train.iloc[:,-10+i])/mse(y_pred=[np.mean(n_train.iloc[:,-10+i])]*len(n_train.iloc[:,-10+i]),y_true=n_train.iloc[:,-10+i])\n",
    "r2ARXis"
   ]
  }
 ],
 "metadata": {
  "kernelspec": {
   "display_name": "Python 3.9.12 ('base')",
   "language": "python",
   "name": "python3"
  },
  "language_info": {
   "codemirror_mode": {
    "name": "ipython",
    "version": 3
   },
   "file_extension": ".py",
   "mimetype": "text/x-python",
   "name": "python",
   "nbconvert_exporter": "python",
   "pygments_lexer": "ipython3",
   "version": "3.9.12"
  },
  "orig_nbformat": 4,
  "vscode": {
   "interpreter": {
    "hash": "597e2b791014bf3f975e304e1e72922cb6b9245e0453d34e2c818a7120fc527f"
   }
  }
 },
 "nbformat": 4,
 "nbformat_minor": 2
}
