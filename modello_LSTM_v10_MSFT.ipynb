{
 "cells": [
  {
   "cell_type": "code",
   "execution_count": 1,
   "metadata": {},
   "outputs": [],
   "source": [
    "import os\n",
    "import utils\n",
    "import pandas as pd\n",
    "import numpy  as np\n",
    "import matplotlib.pyplot as plt\n",
    "from pandas.tseries.offsets import *\n",
    "import statsmodels.formula.api as smf\n",
    "from glob import glob\n",
    "from datetime import datetime\n",
    "import tensorflow as tf\n",
    "import keras\n",
    "from keras import Input, layers\n",
    "from keras.models import Model\n",
    "from keras.layers import Flatten, Dense, Dropout, Activation, Input, LSTM, Reshape, Conv2D, MaxPooling2D, LeakyReLU, GlobalMaxPooling1D\n",
    "from keras.optimizers import Adam\n",
    "from keras.utils import np_utils\n",
    "import random\n",
    "from sklearn.metrics import mean_squared_error as mse\n",
    "from sklearn.metrics import r2_score\n",
    "from scipy import stats\n",
    "from sklearn.linear_model import LinearRegression\n",
    "from fireTS.models import NARX\n",
    "seed_value = 2022\n",
    "random.seed(seed_value)\n",
    "np.random.seed(seed_value)\n",
    "tf.random.set_seed(seed_value)\n",
    "from sklearn.preprocessing import QuantileTransformer \n",
    "normalizer = QuantileTransformer(output_distribution='normal')"
   ]
  },
  {
   "cell_type": "code",
   "execution_count": 13,
   "metadata": {},
   "outputs": [],
   "source": [
    "lob_data=utils.caricaLOB('msft',0.1)\n",
    "ld=lob_data.values.tolist()\n",
    "of=utils.OF_1(ld)\n",
    "bCols=np.ravel([['aOF_%d'%level, 'bOF_%d'%level] for level in [1,2,3]])\n",
    "of_data=pd.DataFrame(of, columns=bCols)\n",
    "m=pd.DataFrame(utils.midPrice(lob_data),columns=['m'])\n",
    "m['r']=m['m'].diff().fillna(0).copy()\n",
    "ret=utils.preparaRitorni(m,'msft')\n",
    "of = pd.concat([of_data[-len(ret):], ret], axis=1)"
   ]
  },
  {
   "cell_type": "code",
   "execution_count": 3,
   "metadata": {},
   "outputs": [
    {
     "data": {
      "text/plain": [
       "array([  0.,  44.,  89., 133., 178., 223., 267., 312., 356., 401., 446.])"
      ]
     },
     "execution_count": 3,
     "metadata": {},
     "output_type": "execute_result"
    }
   ],
   "source": [
    "dt=utils.deltaT(m['r'])\n",
    "hk=utils.doHk(dt,11)\n",
    "hk"
   ]
  },
  {
   "cell_type": "code",
   "execution_count": 14,
   "metadata": {},
   "outputs": [
    {
     "name": "stdout",
     "output_type": "stream",
     "text": [
      "(62787, 100, 6) (62787, 10)\n",
      "(20863, 100, 6) (20863, 10)\n",
      "(20863, 100, 6) (20863, 10)\n"
     ]
    }
   ],
   "source": [
    "V = int(len(of)*0.6)\n",
    "T = int(len(of)*0.8)\n",
    "\n",
    "n_train     = of.iloc[ :V].copy()\n",
    "n_vali      = of.iloc[V:T].copy()\n",
    "n_test      = of.iloc[T: ].copy()\n",
    "\n",
    "n_train = n_train.apply(lambda x : utils.taglia_e_cuci(x), axis=1, raw=True)\n",
    "n_vali  = n_vali .apply(lambda x : utils.taglia_e_cuci(x), axis=1, raw=True)\n",
    "n_test  = n_test .apply(lambda x : utils.taglia_e_cuci(x), axis=1, raw=True)\n",
    "\n",
    "x_vars = of.columns#[:-10]\n",
    "\n",
    "# Normalize Features\n",
    "# Dividing by the standard deviation estimated using the training set\n",
    "for x_var in x_vars:\n",
    "    sd = n_train[x_var].std()\n",
    "    n_train[x_var] = n_train[x_var] / sd\n",
    "    n_vali [x_var] = n_vali [x_var] / sd\n",
    "    n_test [x_var] = n_test [x_var] / sd\n",
    "\n",
    "trainX,trainY = utils.prepXY  (n_train, typo = 'lstm')    \n",
    "valiX ,valiY  = utils.prepXY  (n_vali , typo = 'lstm')    \n",
    "testX ,testY  = utils.prepXY  (n_test , typo = 'lstm')   \n",
    "\n",
    "\n",
    "print(trainX.shape ,trainY.shape)\n",
    "print(valiX.shape  ,valiY .shape)\n",
    "print(testX.shape  ,testY .shape)"
   ]
  },
  {
   "cell_type": "code",
   "execution_count": 5,
   "metadata": {},
   "outputs": [
    {
     "name": "stdout",
     "output_type": "stream",
     "text": [
      "Epoch 1/50\n",
      "246/246 [==============================] - 220s 883ms/step - loss: 0.9670 - val_loss: 0.8273\n",
      "Epoch 2/50\n",
      "246/246 [==============================] - 447s 2s/step - loss: 0.6952 - val_loss: 0.5173\n",
      "Epoch 3/50\n",
      "246/246 [==============================] - 452s 2s/step - loss: 0.5223 - val_loss: 0.4318\n",
      "Epoch 4/50\n",
      "246/246 [==============================] - 439s 2s/step - loss: 0.4518 - val_loss: 0.3868\n",
      "Epoch 5/50\n",
      "246/246 [==============================] - 437s 2s/step - loss: 0.4092 - val_loss: 0.3531\n",
      "Epoch 6/50\n",
      "246/246 [==============================] - 439s 2s/step - loss: 0.3819 - val_loss: 0.3430\n",
      "Epoch 7/50\n",
      "246/246 [==============================] - 457s 2s/step - loss: 0.3591 - val_loss: 0.3337\n",
      "Epoch 8/50\n",
      "246/246 [==============================] - 433s 2s/step - loss: 0.3436 - val_loss: 0.3131\n",
      "Epoch 9/50\n",
      "246/246 [==============================] - 432s 2s/step - loss: 0.3324 - val_loss: 0.3005\n",
      "Epoch 10/50\n",
      "246/246 [==============================] - 420s 2s/step - loss: 0.3207 - val_loss: 0.2937\n",
      "Epoch 11/50\n",
      "246/246 [==============================] - 430s 2s/step - loss: 0.3114 - val_loss: 0.2804\n",
      "Epoch 12/50\n",
      "246/246 [==============================] - 424s 2s/step - loss: 0.3032 - val_loss: 0.2738\n",
      "Epoch 13/50\n",
      "246/246 [==============================] - 429s 2s/step - loss: 0.2941 - val_loss: 0.2689\n",
      "Epoch 14/50\n",
      "246/246 [==============================] - 442s 2s/step - loss: 0.2872 - val_loss: 0.2664\n",
      "Epoch 15/50\n",
      "246/246 [==============================] - 410s 2s/step - loss: 0.2807 - val_loss: 0.2515\n",
      "Epoch 16/50\n",
      "246/246 [==============================] - 417s 2s/step - loss: 0.2749 - val_loss: 0.2555\n",
      "Epoch 17/50\n",
      "246/246 [==============================] - 422s 2s/step - loss: 0.2686 - val_loss: 0.2467\n",
      "Epoch 18/50\n",
      "246/246 [==============================] - 356s 1s/step - loss: 0.2636 - val_loss: 0.2425\n",
      "Epoch 19/50\n",
      "246/246 [==============================] - 199s 809ms/step - loss: 0.2590 - val_loss: 0.2399\n",
      "Epoch 20/50\n",
      "246/246 [==============================] - 155s 630ms/step - loss: 0.2542 - val_loss: 0.2323\n",
      "Epoch 21/50\n",
      "246/246 [==============================] - 151s 612ms/step - loss: 0.2500 - val_loss: 0.2303\n",
      "Epoch 22/50\n",
      "246/246 [==============================] - 149s 606ms/step - loss: 0.2468 - val_loss: 0.2336\n",
      "Epoch 23/50\n",
      "246/246 [==============================] - 149s 606ms/step - loss: 0.2431 - val_loss: 0.2391\n",
      "Epoch 24/50\n",
      "246/246 [==============================] - 155s 632ms/step - loss: 0.2387 - val_loss: 0.2233\n",
      "Epoch 25/50\n",
      "246/246 [==============================] - 165s 670ms/step - loss: 0.2358 - val_loss: 0.2214\n",
      "Epoch 26/50\n",
      "246/246 [==============================] - 168s 682ms/step - loss: 0.2328 - val_loss: 0.2148\n",
      "Epoch 27/50\n",
      "246/246 [==============================] - 164s 665ms/step - loss: 0.2299 - val_loss: 0.2156\n",
      "Epoch 28/50\n",
      "246/246 [==============================] - 169s 687ms/step - loss: 0.2268 - val_loss: 0.2122\n",
      "Epoch 29/50\n",
      "246/246 [==============================] - 165s 670ms/step - loss: 0.2235 - val_loss: 0.2115\n",
      "Epoch 30/50\n",
      "246/246 [==============================] - 168s 683ms/step - loss: 0.2206 - val_loss: 0.2096\n",
      "Epoch 31/50\n",
      "246/246 [==============================] - 159s 648ms/step - loss: 0.2189 - val_loss: 0.2052\n",
      "Epoch 32/50\n",
      "246/246 [==============================] - 154s 625ms/step - loss: 0.2158 - val_loss: 0.2060\n",
      "Epoch 33/50\n",
      "246/246 [==============================] - 155s 631ms/step - loss: 0.2132 - val_loss: 0.2036\n",
      "Epoch 34/50\n",
      "246/246 [==============================] - 152s 619ms/step - loss: 0.2122 - val_loss: 0.2088\n",
      "Epoch 35/50\n",
      "246/246 [==============================] - 165s 669ms/step - loss: 0.2098 - val_loss: 0.2039\n",
      "Epoch 36/50\n",
      "246/246 [==============================] - 171s 693ms/step - loss: 0.2077 - val_loss: 0.1980\n",
      "Epoch 37/50\n",
      "246/246 [==============================] - 175s 710ms/step - loss: 0.2045 - val_loss: 0.1960\n",
      "Epoch 38/50\n",
      "246/246 [==============================] - 172s 700ms/step - loss: 0.2035 - val_loss: 0.1973\n",
      "Epoch 39/50\n",
      "246/246 [==============================] - 145s 589ms/step - loss: 0.2022 - val_loss: 0.2017\n",
      "Epoch 40/50\n",
      "246/246 [==============================] - 126s 514ms/step - loss: 0.2002 - val_loss: 0.1939\n",
      "Epoch 41/50\n",
      "246/246 [==============================] - 115s 466ms/step - loss: 0.1992 - val_loss: 0.1939\n",
      "Epoch 42/50\n",
      "246/246 [==============================] - 119s 484ms/step - loss: 0.1971 - val_loss: 0.1948\n",
      "Epoch 43/50\n",
      "246/246 [==============================] - 118s 479ms/step - loss: 0.1957 - val_loss: 0.1918\n",
      "Epoch 44/50\n",
      "246/246 [==============================] - 117s 476ms/step - loss: 0.1948 - val_loss: 0.1898\n",
      "Epoch 45/50\n",
      "246/246 [==============================] - 119s 484ms/step - loss: 0.1924 - val_loss: 0.1876\n",
      "Epoch 46/50\n",
      "246/246 [==============================] - 119s 486ms/step - loss: 0.1910 - val_loss: 0.1886\n",
      "Epoch 47/50\n",
      "246/246 [==============================] - 120s 487ms/step - loss: 0.1900 - val_loss: 0.1932\n",
      "Epoch 48/50\n",
      "246/246 [==============================] - 117s 474ms/step - loss: 0.1891 - val_loss: 0.1887\n",
      "Epoch 49/50\n",
      "246/246 [==============================] - 115s 469ms/step - loss: 0.1885 - val_loss: 0.1870\n",
      "Epoch 50/50\n",
      "246/246 [==============================] - 114s 465ms/step - loss: 0.1852 - val_loss: 0.1882\n"
     ]
    }
   ],
   "source": [
    "#architettura della rete\n",
    "num_units = 64\n",
    "activation_function = 'leaky_relu'\n",
    "adam = keras.optimizers.Adam(learning_rate=0.0001)\n",
    "loss_function = 'mse'\n",
    "batch_size = 256\n",
    "num_epochs = 50\n",
    "i = Input(shape=(100, 6))\n",
    "x = LSTM(64, return_sequences=True)(i)\n",
    "x = keras.layers.LeakyReLU(alpha=0.01)(x)\n",
    "x = LSTM(64, return_sequences=True)(x)\n",
    "x = keras.layers.LeakyReLU(alpha=0.01)(x)\n",
    "x = keras.layers.Dropout(0.2)(x, training=True)\n",
    "#x = LSTM(64, return_sequences=True)(x)\n",
    "x = GlobalMaxPooling1D()(x)\n",
    "x = Dense(10, activation='leaky_relu')(x)\n",
    "\n",
    "\n",
    "model = Model(i, x)\n",
    "\n",
    "\n",
    "callback=tf.keras.callbacks.EarlyStopping(\n",
    "    monitor='val_loss',\n",
    "    min_delta=0,\n",
    "    patience=5,\n",
    "    verbose=1,\n",
    "    mode='auto',\n",
    "    baseline=None,\n",
    "    restore_best_weights=False\n",
    ")\n",
    "\n",
    "model.compile(optimizer = adam, loss = loss_function)\n",
    "\n",
    "r=model.fit(trainX,trainY, batch_size = batch_size, epochs = num_epochs,validation_data=(valiX ,valiY ),callbacks=[callback])\n",
    "\n",
    "#model.save('LSTMbynd25pct.h5')"
   ]
  },
  {
   "cell_type": "code",
   "execution_count": 10,
   "metadata": {},
   "outputs": [],
   "source": [
    "model.load_weights('LSTMmsft.h5')\n",
    "#model.save('LSTMmsft.h5')"
   ]
  },
  {
   "cell_type": "code",
   "execution_count": null,
   "metadata": {},
   "outputs": [],
   "source": [
    "loss=r.history['loss']\n",
    "lossVal=r.history['val_loss']\n",
    "lossVal"
   ]
  },
  {
   "cell_type": "code",
   "execution_count": 7,
   "metadata": {},
   "outputs": [
    {
     "data": {
      "image/png": "[encoded data removed]",
      "text/plain": [
       "<Figure size 432x288 with 1 Axes>"
      ]
     },
     "metadata": {
      "needs_background": "light"
     },
     "output_type": "display_data"
    }
   ],
   "source": [
    "plt.plot(r.history['loss'], label='train loss')\n",
    "plt.plot(r.history['val_loss'], label='test loss')\n",
    "plt.legend()\n",
    "plt.show()"
   ]
  },
  {
   "cell_type": "code",
   "execution_count": 15,
   "metadata": {},
   "outputs": [
    {
     "name": "stdout",
     "output_type": "stream",
     "text": [
      "1963/1963 [==============================] - 55s 28ms/step\n",
      "652/652 [==============================] - 25s 39ms/step\n"
     ]
    }
   ],
   "source": [
    "Ptrain= model.predict(trainX)\n",
    "Ptest = model.predict(testX)"
   ]
  },
  {
   "cell_type": "code",
   "execution_count": 16,
   "metadata": {},
   "outputs": [
    {
     "data": {
      "text/plain": [
       "array([0.20948868, 0.24980615, 0.263046  , 0.27261624, 0.27919949,\n",
       "       0.28524061, 0.29094376, 0.29245578, 0.29684511, 0.29857449])"
      ]
     },
     "execution_count": 16,
     "metadata": {},
     "output_type": "execute_result"
    }
   ],
   "source": [
    "r2LSTMos = np.zeros(10)\n",
    "for i in range(10):\n",
    "    r2LSTMos[i]=1-mse(y_pred=Ptest[:,i],y_true=testY[:,i])/mse(y_pred=[np.mean(trainY[:,i])]*len(testY),y_true=testY[:,i])\n",
    "r2LSTMos"
   ]
  },
  {
   "cell_type": "code",
   "execution_count": 17,
   "metadata": {},
   "outputs": [
    {
     "data": {
      "text/plain": [
       "array([0.60891027, 0.7600788 , 0.805858  , 0.82544457, 0.83948734,\n",
       "       0.85233651, 0.85714086, 0.86087283, 0.86604035, 0.85700497])"
      ]
     },
     "execution_count": 17,
     "metadata": {},
     "output_type": "execute_result"
    }
   ],
   "source": [
    "r2LSTMis = np.zeros(10)\n",
    "for i in range(10):\n",
    "    r2LSTMis[i]=1-mse(y_pred=Ptrain[:,i],y_true=trainY[:,i])/mse(y_pred=[np.mean(trainY[:,i])]*len(trainY),y_true=trainY[:,i])\n",
    "r2LSTMis"
   ]
  },
  {
   "cell_type": "code",
   "execution_count": 18,
   "metadata": {},
   "outputs": [
    {
     "data": {
      "text/plain": [
       "(0.2715656148277319, 0.8133174492012678)"
      ]
     },
     "execution_count": 18,
     "metadata": {},
     "output_type": "execute_result"
    }
   ],
   "source": [
    "r2_score(y_pred=Ptest*sd,y_true=testY*sd), r2_score(y_pred=Ptrain*sd,y_true=trainY*sd)"
   ]
  },
  {
   "cell_type": "code",
   "execution_count": null,
   "metadata": {},
   "outputs": [
    {
     "data": {
      "text/plain": [
       "[]"
      ]
     },
     "execution_count": 12,
     "metadata": {},
     "output_type": "execute_result"
    },
    {
     "name": "stderr",
     "output_type": "stream",
     "text": [
      "c:\\Users\\macri\\anaconda3\\lib\\site-packages\\IPython\\core\\pylabtools.py:151: UserWarning: Creating legend with loc=\"best\" can be slow with large amounts of data.\n",
      "  fig.canvas.print_figure(bytes_io, **kw)\n"
     ]
    },
    {
     "data": {
      "image/png": "[encoded data removed]",
      "text/plain": [
       "<Figure size 432x288 with 1 Axes>"
      ]
     },
     "metadata": {
      "needs_background": "light"
     },
     "output_type": "display_data"
    }
   ],
   "source": [
    "plt.plot(testY)\n",
    "plt.plot(Ptest,label='pred')\n",
    "plt.legend()\n",
    "plt.plot()\n",
    "###\n",
    "plt.plot(trainY)\n",
    "plt.plot(Ptrain,label='pred')\n",
    "plt.legend()\n",
    "plt.plot()"
   ]
  }
 ],
 "metadata": {
  "kernelspec": {
   "display_name": "Python 3.9.12 ('base')",
   "language": "python",
   "name": "python3"
  },
  "language_info": {
   "codemirror_mode": {
    "name": "ipython",
    "version": 3
   },
   "file_extension": ".py",
   "mimetype": "text/x-python",
   "name": "python",
   "nbconvert_exporter": "python",
   "pygments_lexer": "ipython3",
   "version": "3.9.12"
  },
  "orig_nbformat": 4,
  "vscode": {
   "interpreter": {
    "hash": "597e2b791014bf3f975e304e1e72922cb6b9245e0453d34e2c818a7120fc527f"
   }
  }
 },
 "nbformat": 4,
 "nbformat_minor": 2
}
