{
 "cells": [
  {
   "cell_type": "code",
   "execution_count": 1,
   "metadata": {},
   "outputs": [],
   "source": [
    "import os\n",
    "import utils\n",
    "import pandas as pd\n",
    "import numpy  as np\n",
    "import matplotlib.pyplot as plt\n",
    "from pandas.tseries.offsets import *\n",
    "import statsmodels.formula.api as smf\n",
    "from glob import glob\n",
    "from datetime import datetime\n",
    "import tensorflow as tf\n",
    "import keras\n",
    "from keras import Input, layers\n",
    "from keras.models import Model\n",
    "from keras.layers import Flatten, Dense, Dropout, Activation, Input, LSTM, Reshape, Conv2D, MaxPooling2D, LeakyReLU, GlobalMaxPooling1D\n",
    "from keras.optimizers import Adam\n",
    "from keras.utils import np_utils\n",
    "import random\n",
    "from sklearn.metrics import mean_squared_error as mse\n",
    "from sklearn.metrics import r2_score\n",
    "from scipy import stats\n",
    "from sklearn.linear_model import LinearRegression\n",
    "from fireTS.models import NARX\n",
    "seed_value = 2022\n",
    "random.seed(seed_value)\n",
    "np.random.seed(seed_value)\n",
    "tf.random.set_seed(seed_value)\n",
    "from sklearn.preprocessing import QuantileTransformer \n",
    "normalizer = QuantileTransformer(output_distribution='normal')"
   ]
  },
  {
   "cell_type": "code",
   "execution_count": 2,
   "metadata": {},
   "outputs": [],
   "source": [
    "lob_data=utils.caricaLOB('msft',0.1)\n",
    "ld=lob_data.values.tolist()\n",
    "of=utils.OF_1(ld)\n",
    "bCols=np.ravel([['aOF_%d'%level, 'bOF_%d'%level] for level in [1,2,3]])\n",
    "of_data=pd.DataFrame(of, columns=bCols)\n",
    "m=pd.DataFrame(utils.midPrice(lob_data),columns=['m'])\n",
    "m['r']=m['m'].diff().fillna(0).copy()\n",
    "ret=utils.preparaRitorni(m,'msft')\n",
    "of = pd.concat([of_data[-len(ret):], ret], axis=1)"
   ]
  },
  {
   "cell_type": "code",
   "execution_count": 3,
   "metadata": {},
   "outputs": [
    {
     "data": {
      "text/plain": [
       "array([  0.,  44.,  89., 133., 178., 223., 267., 312., 356., 401., 446.])"
      ]
     },
     "execution_count": 3,
     "metadata": {},
     "output_type": "execute_result"
    }
   ],
   "source": [
    "dt=utils.deltaT(m['r'])\n",
    "hk=utils.doHk(dt,11)\n",
    "hk"
   ]
  },
  {
   "cell_type": "code",
   "execution_count": 4,
   "metadata": {},
   "outputs": [
    {
     "name": "stdout",
     "output_type": "stream",
     "text": [
      "(62787, 100, 6, 1) (62787, 10)\n",
      "(20863, 100, 6, 1) (20863, 10)\n",
      "(20863, 100, 6, 1) (20863, 10)\n"
     ]
    }
   ],
   "source": [
    "V = int(len(of)*0.6)\n",
    "T = int(len(of)*0.8)\n",
    "\n",
    "n_train     = of.iloc[ :V].copy()\n",
    "n_vali      = of.iloc[V:T].copy()\n",
    "n_test      = of.iloc[T: ].copy()\n",
    "\n",
    "n_train = n_train.apply(lambda x : utils.taglia_e_cuci(x), axis=1, raw=True)\n",
    "n_vali  = n_vali .apply(lambda x : utils.taglia_e_cuci(x), axis=1, raw=True)\n",
    "n_test  = n_test .apply(lambda x : utils.taglia_e_cuci(x), axis=1, raw=True)\n",
    "\n",
    "x_vars = of.columns#[:-10]\n",
    "\n",
    "# Normalize Features\n",
    "# Dividing by the standard deviation estimated using the training set\n",
    "for x_var in x_vars:\n",
    "    sd = n_train[x_var].std()\n",
    "    n_train[x_var] = n_train[x_var] / sd\n",
    "    n_vali [x_var] = n_vali [x_var] / sd\n",
    "    n_test [x_var] = n_test [x_var] / sd\n",
    "\n",
    "trainX,trainY = utils.prepXY  (n_train, typo = 'cnnlstm')    \n",
    "valiX ,valiY  = utils.prepXY  (n_vali , typo = 'cnnlstm')    \n",
    "testX ,testY  = utils.prepXY  (n_test , typo = 'cnnlstm')   \n",
    "\n",
    "\n",
    "print(trainX.shape ,trainY.shape)\n",
    "print(valiX.shape  ,valiY .shape)\n",
    "print(testX.shape  ,testY .shape)"
   ]
  },
  {
   "cell_type": "code",
   "execution_count": 5,
   "metadata": {},
   "outputs": [],
   "source": [
    "#architettura della rete\n",
    "def create_nn(T, NF,number_of_lstm):\n",
    "\n",
    "    input_lmd = tf.keras.Input(shape=(T, NF, 1))\n",
    "\n",
    "    conv_first1 = Conv2D(32, kernel_size=(1, 2), strides=(1, 2))(input_lmd)\n",
    "    conv_first1 = keras.layers.LeakyReLU(alpha=0.01)(conv_first1)\n",
    "    conv_first1 = Conv2D(32, (4, 1), padding='same')(conv_first1)\n",
    "    conv_first1 = keras.layers.LeakyReLU(alpha=0.01)(conv_first1)\n",
    "    conv_first1 = Conv2D(32, (4, 1), padding='same')(conv_first1)\n",
    "    conv_first1 = keras.layers.LeakyReLU(alpha=0.01)(conv_first1)\n",
    "    #\n",
    "    layer_x = layers.Conv2D(filters=16, kernel_size=(10,1),strides=(1,10), padding='same')(conv_first1)\n",
    "    layer_x = layers.LeakyReLU(alpha=0.01)(layer_x)\n",
    "    # inception\n",
    "    convsecond_1 = Conv2D(64, (1, 1), padding='same', strides=(1,1))(layer_x)\n",
    "    convsecond_1 = keras.layers.LeakyReLU(alpha=0.01)(convsecond_1)\n",
    "    convsecond_1 = Conv2D(64, (3, 1), padding='same', strides=(1,1))(convsecond_1)\n",
    "    convsecond_1 = keras.layers.LeakyReLU(alpha=0.01)(convsecond_1)\n",
    "\n",
    "    convsecond_2 = Conv2D(64, (1, 1), padding='same', strides=(1,1))(layer_x)\n",
    "    convsecond_2 = keras.layers.LeakyReLU(alpha=0.01)(convsecond_2)\n",
    "    convsecond_2 = Conv2D(64, (5, 1), padding='same', strides=(1,1))(convsecond_2)\n",
    "    convsecond_2 = keras.layers.LeakyReLU(alpha=0.01)(convsecond_2)\n",
    "\n",
    "    convsecond_3 = MaxPooling2D((3, 1), strides=(1, 1), padding='same')(layer_x)\n",
    "    convsecond_3 = Conv2D(64, (1, 1), padding='same', strides=(1,1))(convsecond_3)\n",
    "    convsecond_3 = keras.layers.LeakyReLU(alpha=0.01)(convsecond_3)\n",
    "    \n",
    "    convsecond_output = keras.layers.concatenate([convsecond_1, convsecond_2, convsecond_3], axis=3)\n",
    "    conv_reshape = Reshape((int(convsecond_output.shape[1]), int(convsecond_output.shape[3])))(convsecond_output)\n",
    "    conv_reshape = keras.layers.Dropout(0.3, noise_shape=(None, 1, int(conv_reshape.shape[2])))(conv_reshape, training=True)\n",
    "\n",
    "    #  LSTM layer\n",
    "    conv_lstm = LSTM(number_of_lstm)(conv_reshape)\n",
    "    # output layer\n",
    "    out = Dense(10, activation='leaky_relu')(conv_lstm) #prova a mettere TY=number of steps in the output\n",
    "    model = Model(inputs=input_lmd, outputs=out)\n",
    "    adam = keras.optimizers.Adam(learning_rate=0.0001)\n",
    "    model.compile(optimizer=adam, loss='mse')#, metrics=['accuracy']\n",
    "\n",
    "    return model\n",
    "  \n",
    "deeplob = create_nn(100, 6, 64)\n",
    "checkpoint_filepath = './model_tensorflow2/weights'\n",
    "\n",
    "callback=tf.keras.callbacks.EarlyStopping(\n",
    "    monitor='val_loss',\n",
    "    min_delta=0,\n",
    "    patience=5,\n",
    "    verbose=1,\n",
    "    mode='auto',\n",
    "    baseline=None,\n",
    "    restore_best_weights=False\n",
    ")\n",
    "saving = tf.keras.callbacks.ModelCheckpoint(\n",
    "    filepath=checkpoint_filepath,\n",
    "    save_weights_only=True,\n",
    "    monitor='val_loss',\n",
    "    mode='auto',\n",
    "    save_best_only=True)\n",
    "\n",
    "#deeplob.summary()"
   ]
  },
  {
   "cell_type": "code",
   "execution_count": 6,
   "metadata": {},
   "outputs": [
    {
     "name": "stdout",
     "output_type": "stream",
     "text": [
      "Epoch 1/50\n",
      "246/246 [==============================] - 127s 506ms/step - loss: 0.7252 - val_loss: 0.4796\n",
      "Epoch 2/50\n",
      "246/246 [==============================] - 128s 520ms/step - loss: 0.4550 - val_loss: 0.3918\n",
      "Epoch 3/50\n",
      "246/246 [==============================] - 147s 600ms/step - loss: 0.3922 - val_loss: 0.3509\n",
      "Epoch 4/50\n",
      "246/246 [==============================] - 165s 670ms/step - loss: 0.3623 - val_loss: 0.3329\n",
      "Epoch 5/50\n",
      "246/246 [==============================] - 238s 968ms/step - loss: 0.3443 - val_loss: 0.3188\n",
      "Epoch 6/50\n",
      "246/246 [==============================] - 186s 756ms/step - loss: 0.3314 - val_loss: 0.3046\n",
      "Epoch 7/50\n",
      "246/246 [==============================] - 189s 768ms/step - loss: 0.3209 - val_loss: 0.2950\n",
      "Epoch 8/50\n",
      "246/246 [==============================] - 189s 769ms/step - loss: 0.3112 - val_loss: 0.2937\n",
      "Epoch 9/50\n",
      "246/246 [==============================] - 185s 754ms/step - loss: 0.3043 - val_loss: 0.2831\n",
      "Epoch 10/50\n",
      "246/246 [==============================] - 194s 791ms/step - loss: 0.2982 - val_loss: 0.2775\n",
      "Epoch 11/50\n",
      "246/246 [==============================] - 200s 814ms/step - loss: 0.2925 - val_loss: 0.2761\n",
      "Epoch 12/50\n",
      "246/246 [==============================] - 206s 836ms/step - loss: 0.2872 - val_loss: 0.2863\n",
      "Epoch 13/50\n",
      "246/246 [==============================] - 189s 769ms/step - loss: 0.2816 - val_loss: 0.2689\n",
      "Epoch 14/50\n",
      "246/246 [==============================] - 182s 741ms/step - loss: 0.2777 - val_loss: 0.2722\n",
      "Epoch 15/50\n",
      "246/246 [==============================] - 191s 776ms/step - loss: 0.2730 - val_loss: 0.2681\n",
      "Epoch 16/50\n",
      "246/246 [==============================] - 186s 758ms/step - loss: 0.2686 - val_loss: 0.2727\n",
      "Epoch 17/50\n",
      "246/246 [==============================] - 195s 793ms/step - loss: 0.2640 - val_loss: 0.2656\n",
      "Epoch 18/50\n",
      "246/246 [==============================] - 188s 763ms/step - loss: 0.2606 - val_loss: 0.2754\n",
      "Epoch 19/50\n",
      "246/246 [==============================] - 187s 761ms/step - loss: 0.2567 - val_loss: 0.2623\n",
      "Epoch 20/50\n",
      "246/246 [==============================] - 190s 773ms/step - loss: 0.2531 - val_loss: 0.2606\n",
      "Epoch 21/50\n",
      "246/246 [==============================] - 190s 774ms/step - loss: 0.2498 - val_loss: 0.2861\n",
      "Epoch 22/50\n",
      "246/246 [==============================] - 190s 773ms/step - loss: 0.2472 - val_loss: 0.2600\n",
      "Epoch 23/50\n",
      "246/246 [==============================] - 185s 754ms/step - loss: 0.2439 - val_loss: 0.2767\n",
      "Epoch 24/50\n",
      "246/246 [==============================] - 195s 791ms/step - loss: 0.2394 - val_loss: 0.2727\n",
      "Epoch 25/50\n",
      "246/246 [==============================] - 193s 786ms/step - loss: 0.2375 - val_loss: 0.2639\n",
      "Epoch 26/50\n",
      "246/246 [==============================] - 210s 855ms/step - loss: 0.2347 - val_loss: 0.2700\n",
      "Epoch 27/50\n",
      "246/246 [==============================] - 197s 801ms/step - loss: 0.2316 - val_loss: 0.2627\n",
      "Epoch 27: early stopping\n"
     ]
    }
   ],
   "source": [
    "#simple=deeplob.load_weights('modelMSFT.h5')\n",
    "simple=deeplob.fit(trainX, trainY, validation_data=(valiX, valiY),  epochs=50, batch_size=256,callbacks=[callback,saving])\n"
   ]
  },
  {
   "cell_type": "code",
   "execution_count": 7,
   "metadata": {},
   "outputs": [],
   "source": [
    "#deeplob.save('modelMSFT.h5')"
   ]
  },
  {
   "cell_type": "code",
   "execution_count": null,
   "metadata": {},
   "outputs": [],
   "source": [
    "loss=simple.history['loss']\n",
    "lossVal=simple.history['val_loss']\n",
    "lossVal"
   ]
  },
  {
   "cell_type": "code",
   "execution_count": 9,
   "metadata": {},
   "outputs": [
    {
     "data": {
      "image/png": "[encoded data removed]",
      "text/plain": [
       "<Figure size 432x288 with 1 Axes>"
      ]
     },
     "metadata": {
      "needs_background": "light"
     },
     "output_type": "display_data"
    }
   ],
   "source": [
    "plt.plot(simple.history['loss'], label='train loss')\n",
    "plt.plot(simple.history['val_loss'], label='test loss')\n",
    "plt.legend()\n",
    "plt.show()"
   ]
  },
  {
   "cell_type": "code",
   "execution_count": 10,
   "metadata": {},
   "outputs": [
    {
     "name": "stdout",
     "output_type": "stream",
     "text": [
      "1963/1963 [==============================] - 98s 49ms/step\n",
      "652/652 [==============================] - 32s 50ms/step\n"
     ]
    }
   ],
   "source": [
    "Ptrain= deeplob.predict(trainX)\n",
    "Ptest = deeplob.predict(testX)"
   ]
  },
  {
   "cell_type": "code",
   "execution_count": 11,
   "metadata": {},
   "outputs": [
    {
     "data": {
      "text/plain": [
       "array([0.20681875, 0.21743389, 0.23408731, 0.24878044, 0.25755401,\n",
       "       0.26920821, 0.27345499, 0.28449956, 0.28966231, 0.29158119])"
      ]
     },
     "execution_count": 11,
     "metadata": {},
     "output_type": "execute_result"
    }
   ],
   "source": [
    "r2os = np.zeros(10)\n",
    "for i in range(10):\n",
    "    r2os[i]=1-mse(y_pred=Ptest[:,i],y_true=testY[:,i])/mse(y_pred=[np.mean(trainY[:,i])]*len(testY),y_true=testY[:,i])\n",
    "r2os"
   ]
  },
  {
   "cell_type": "code",
   "execution_count": 12,
   "metadata": {},
   "outputs": [
    {
     "data": {
      "text/plain": [
       "array([0.65122799, 0.69994896, 0.75218611, 0.77160602, 0.78901225,\n",
       "       0.80134438, 0.8091013 , 0.81456902, 0.81691782, 0.81172888])"
      ]
     },
     "execution_count": 12,
     "metadata": {},
     "output_type": "execute_result"
    }
   ],
   "source": [
    "r2is = np.zeros(10)\n",
    "for i in range(10):\n",
    "    r2is[i]=1-mse(y_pred=Ptrain[:,i],y_true=trainY[:,i])/mse(y_pred=[np.mean(trainY[:,i])]*len(trainY),y_true=trainY[:,i])\n",
    "r2is"
   ]
  },
  {
   "cell_type": "code",
   "execution_count": 13,
   "metadata": {},
   "outputs": [
    {
     "data": {
      "image/png": "[encoded data removed]",
      "text/plain": [
       "<Figure size 432x288 with 1 Axes>"
      ]
     },
     "metadata": {
      "needs_background": "light"
     },
     "output_type": "display_data"
    }
   ],
   "source": [
    "plt.plot(testY)\n",
    "plt.plot(Ptest,label='pred')\n",
    "plt.legend();"
   ]
  },
  {
   "cell_type": "code",
   "execution_count": 14,
   "metadata": {},
   "outputs": [
    {
     "name": "stderr",
     "output_type": "stream",
     "text": [
      "c:\\Users\\macri\\anaconda3\\lib\\site-packages\\IPython\\core\\pylabtools.py:151: UserWarning: Creating legend with loc=\"best\" can be slow with large amounts of data.\n",
      "  fig.canvas.print_figure(bytes_io, **kw)\n"
     ]
    },
    {
     "data": {
      "image/png": "[encoded data removed]",
      "text/plain": [
       "<Figure size 432x288 with 1 Axes>"
      ]
     },
     "metadata": {
      "needs_background": "light"
     },
     "output_type": "display_data"
    }
   ],
   "source": [
    "plt.plot(trainY)\n",
    "plt.plot(Ptrain,label='pred')\n",
    "plt.legend();"
   ]
  },
  {
   "cell_type": "code",
   "execution_count": 15,
   "metadata": {},
   "outputs": [
    {
     "data": {
      "text/plain": [
       "(0.2550076608210122, 0.7717642721840912)"
      ]
     },
     "execution_count": 15,
     "metadata": {},
     "output_type": "execute_result"
    }
   ],
   "source": [
    "r2_score(y_pred=Ptest,y_true=testY), r2_score(y_pred=Ptrain,y_true=trainY)"
   ]
  },
  {
   "cell_type": "code",
   "execution_count": 16,
   "metadata": {},
   "outputs": [],
   "source": [
    "x = n_train.iloc[:,:6]\n",
    "y = n_train.iloc[:,6:]\n",
    "\n",
    "yfor =np.empty((len(valiY),10))\n",
    "\n",
    "for i in range(10):\n",
    "    mdl = NARX(LinearRegression(), auto_order=1, exog_order=[100,100,100,100,100,100])\n",
    "    mdl.fit(x,y.iloc[:,i])\n",
    "    yfor[:,i] = mdl.forecast(x,y.iloc[:,i],step=len(valiY))"
   ]
  },
  {
   "cell_type": "code",
   "execution_count": 17,
   "metadata": {},
   "outputs": [
    {
     "data": {
      "text/plain": [
       "array([-0.00327482, -0.00682558, -0.01146984, -0.01324398, -0.01666674,\n",
       "       -0.02096704, -0.02678997, -0.0317435 , -0.03724015, -0.05112148])"
      ]
     },
     "execution_count": 17,
     "metadata": {},
     "output_type": "execute_result"
    }
   ],
   "source": [
    "r2ARXos = np.zeros(10)\n",
    "for i in range(10):\n",
    "    r2ARXos[i]=1-mse(y_pred=yfor[:,i],y_true=valiY[:,i])/mse(y_pred=[np.mean(trainY[:,i])]*len(valiY),y_true=valiY[:,i])\n",
    "r2ARXos"
   ]
  },
  {
   "cell_type": "code",
   "execution_count": 18,
   "metadata": {},
   "outputs": [
    {
     "data": {
      "text/plain": [
       "(1.0, -2018.871017941862)"
      ]
     },
     "execution_count": 18,
     "metadata": {},
     "output_type": "execute_result"
    }
   ],
   "source": [
    "r2_score(y,n_train.iloc[:,-10:]),  r2_score(yfor,valiY)"
   ]
  },
  {
   "cell_type": "code",
   "execution_count": 19,
   "metadata": {},
   "outputs": [
    {
     "data": {
      "text/plain": [
       "array([1., 1., 1., 1., 1., 1., 1., 1., 1., 1.])"
      ]
     },
     "execution_count": 19,
     "metadata": {},
     "output_type": "execute_result"
    }
   ],
   "source": [
    "r2ARXis = np.zeros(10)\n",
    "for i in range(10):\n",
    "    r2ARXis[i]=1-mse(y_pred=y.iloc[:,i],y_true=n_train.iloc[:,-10+i])/mse(y_pred=[np.mean(n_train.iloc[:,-10+i])]*len(n_train.iloc[:,-10+i]),y_true=n_train.iloc[:,-10+i])\n",
    "r2ARXis"
   ]
  }
 ],
 "metadata": {
  "kernelspec": {
   "display_name": "Python 3.9.12 ('base')",
   "language": "python",
   "name": "python3"
  },
  "language_info": {
   "codemirror_mode": {
    "name": "ipython",
    "version": 3
   },
   "file_extension": ".py",
   "mimetype": "text/x-python",
   "name": "python",
   "nbconvert_exporter": "python",
   "pygments_lexer": "ipython3",
   "version": "3.9.12"
  },
  "orig_nbformat": 4,
  "vscode": {
   "interpreter": {
    "hash": "597e2b791014bf3f975e304e1e72922cb6b9245e0453d34e2c818a7120fc527f"
   }
  }
 },
 "nbformat": 4,
 "nbformat_minor": 2
}
